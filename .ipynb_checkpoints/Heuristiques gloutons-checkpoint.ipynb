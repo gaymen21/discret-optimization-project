{
 "cells": [
  {
   "cell_type": "code",
   "execution_count": 4,
   "metadata": {},
   "outputs": [
    {
     "name": "stdout",
     "output_type": "stream",
     "text": [
      "[['2' '1' '0' '3' '1' '6' '3' '7' '5' '3' '4' '6']\n",
      " ['1' '8' '2' '5' '4' '10' '5' '10' '0' '10' '3' '4']\n",
      " ['2' '5' '3' '4' '5' '8' '0' '9' '1' '1' '4' '7']\n",
      " ['1' '5' '0' '5' '2' '5' '3' '3' '4' '8' '5' '9']\n",
      " ['2' '9' '1' '3' '4' '5' '5' '4' '0' '3' '3' '1']\n",
      " ['1' '3' '3' '3' '5' '9' '0' '10' '4' '4' '2' '1']]\n",
      "6\n"
     ]
    }
   ],
   "source": [
    "res, description = format_file(\"ft06\")\n",
    "number_of_ressources = int(description.split()[1])\n",
    "\n",
    "print(res)\n",
    "print(number_of_ressources)"
   ]
  },
  {
   "cell_type": "code",
   "execution_count": 129,
   "metadata": {},
   "outputs": [
    {
     "name": "stdout",
     "output_type": "stream",
     "text": [
      "['2' '1' '2' '1' '2' '1']\n",
      "['0' '2' '3' '0' '1' '3']\n",
      "['1' '4' '5' '2' '4' '5']\n",
      "['3' '5' '0' '3' '5' '0']\n",
      "['5' '0' '1' '4' '0' '4']\n",
      "['4' '3' '4' '5' '3' '2']\n",
      "[['3' '5' '9' '10' '10' '3']\n",
      " ['8' '5' '3' '3' '6' '1']\n",
      " ['1' '5' '9' '5' '5' '1']\n",
      " ['4' '3' '7' '3' '4' '1']\n",
      " ['10' '5' '8' '4' '6' '7']\n",
      " ['8' '9' '10' '4' '3' '9']]\n"
     ]
    }
   ],
   "source": [
    "res = format_file(\"ft06\")\n",
    "\n",
    "resources=[]\n",
    "for o in range(int(len(res.T)/2)):\n",
    "    resources.append([])\n",
    "    \n",
    "for i in range(len(res.T)):\n",
    "    if(i%2 == 1):\n",
    "        pass\n",
    "    else:        \n",
    "        resource_line = res.T[i]    <   \n",
    "        duration_line = res.T[i+1]\n",
    "        print(resource_line)\n",
    "        for k in range(len(resource_line)):\n",
    "            index = int(resource_line[k])\n",
    "            resources[index].append(duration_line[k])\n",
    "            \n",
    "print(np.array(resources))\n"
   ]
  },
  {
   "cell_type": "code",
   "execution_count": 6,
   "metadata": {},
   "outputs": [],
   "source": [
    "import numpy as np"
   ]
  },
  {
   "cell_type": "code",
   "execution_count": 7,
   "metadata": {},
   "outputs": [],
   "source": [
    "def format_file(file_name):\n",
    "    jobs = []\n",
    "    with open(\"./instances/\"+file_name,\"r\") as file:    \n",
    "        f = file.readlines()\n",
    "        for i in range(5, len(f)):\n",
    "            jobs.append(f[i].split())\n",
    "            \n",
    "        return np.array(jobs), f[4]"
   ]
  },
  {
   "cell_type": "code",
   "execution_count": 86,
   "metadata": {},
   "outputs": [],
   "source": [
    "class Task:\n",
    "    def __init__(self, resource, duration, job, number):\n",
    "        self.number = number\n",
    "        self.resource = resource\n",
    "        self.duration = duration\n",
    "        self.job = job"
   ]
  },
  {
   "cell_type": "code",
   "execution_count": 146,
   "metadata": {},
   "outputs": [],
   "source": [
    "class Job:\n",
    "    def __init__(self, number):\n",
    "        self.tasks = []\n",
    "        self.number = number\n",
    "        self.next_availability = 0\n",
    "        self.current_task_idx = -1\n",
    "        self.is_done = False\n",
    "        \n",
    "    def add_task(self, task):\n",
    "        self.tasks.append(task)\n",
    "        \n",
    "    def set_next_av(self, new_duration):\n",
    "        self.next_availability += new_duration\n",
    "        if (self.current_task_idx == len(self.tasks) - 1): # if we've already reached the last task\n",
    "            self.is_done = True\n",
    "        else:\n",
    "            self.current_task_idx += 1\n",
    "            \n",
    "    def get_next_task(self, cycle):\n",
    "        if (self.next_availability >= cycle & (not self.is_done)):\n",
    "            print(self.current_task_idx)\n",
    "            self.current_task_idx += 1\n",
    "            print(\"number\")\n",
    "            print(self.number)\n",
    "            print(\"self.current_task_idx\")\n",
    "            print(self.current_task_idx)\n",
    "            return self.tasks[self.current_task_idx]\n",
    "        return None"
   ]
  },
  {
   "cell_type": "code",
   "execution_count": 140,
   "metadata": {},
   "outputs": [],
   "source": [
    "class Resource:\n",
    "    def __init__(self, number):\n",
    "        self.number = number\n",
    "        self.next_availability = 0\n",
    "        self.current_task = None\n",
    "        self.tmp_tasks = []\n",
    "        self.all_tasks = []\n",
    "        \n",
    "    def set_next_av(self, new_duration):\n",
    "        self.next_availability += new_duration"
   ]
  },
  {
   "cell_type": "code",
   "execution_count": 141,
   "metadata": {},
   "outputs": [],
   "source": [
    "def insert_task(task, priority): \n",
    "    sorted_list = task.resource.tmp_tasks\n",
    "    index=0\n",
    "    # Searching for the position \n",
    "    for i in range(len(sorted_list)): \n",
    "        if (((sorted_list[i].duration < task.duration) & (priority == 'LPT')) | ((sorted_list[i].duration > task.duration) & (priority == 'SPT'))): \n",
    "            index = i \n",
    "            break\n",
    "      \n",
    "    # Inserting in the list \n",
    "    task.resource.tmp_tasks = sorted_list[:index] + [task] + sorted_list[index:]"
   ]
  },
  {
   "cell_type": "code",
   "execution_count": 142,
   "metadata": {},
   "outputs": [],
   "source": [
    "def reorder_tasks(resources, waiting_tasks, priority):\n",
    "    for task in waiting_tasks:\n",
    "        insert_task(task, priority)\n",
    "        \n",
    "    for resource in resources:\n",
    "        for tmp_task in resource.tmp_tasks:\n",
    "            old_av = resource.next_availability\n",
    "            resource.set_next_av(tmp_task.duration) # update availability on resource\n",
    "            tmp_task.job.set_next_av(tmp_task.duration) # update availability on job\n",
    "            resource.all_tasks.append((\"Task {} - Job {}\".format(int(tmp_task.number), int(tmp_task.job.number)), old_av ,resource.next_availability))\n",
    "                \n",
    "        # flash resources waiting tasks\n",
    "        resource.tmp_tasks = []"
   ]
  },
  {
   "cell_type": "code",
   "execution_count": 143,
   "metadata": {},
   "outputs": [],
   "source": [
    "def get_av_tasks(jobs, cycle):\n",
    "    tasks = []\n",
    "    for job in jobs:\n",
    "        task = job.get_next_task(cycle)\n",
    "        if (task):\n",
    "            tasks.append(task)\n",
    "        else:\n",
    "            if(job.is_done):\n",
    "                jobs.remove(job)\n",
    "    return tasks, jobs"
   ]
  },
  {
   "cell_type": "code",
   "execution_count": 157,
   "metadata": {},
   "outputs": [],
   "source": [
    "# Main Program\n",
    "jobs = []\n",
    "resources = []\n",
    "cycle = 0\n",
    "priority = 'SPT'\n",
    "job_list, description = format_file(\"ft06\")\n",
    "number_of_ressources = int(description.split()[1])\n",
    "\n",
    "for i in range(number_of_ressources):\n",
    "    resources.append(Resource(number=i))\n",
    "    \n",
    "job_index = 0\n",
    "for line in job_list:\n",
    "    job = Job(job_index)\n",
    "    for k in range(0,len(line),2):\n",
    "        resource_nbr = int(line[k])\n",
    "        duration = int(line[k+1])\n",
    "        task = Task(resources[resource_nbr], duration, job, k/2)\n",
    "        job.add_task(task)\n",
    "    \n",
    "    jobs.append(job)\n",
    "    job_index+=1"
   ]
  },
  {
   "cell_type": "code",
   "execution_count": 158,
   "metadata": {},
   "outputs": [
    {
     "name": "stdout",
     "output_type": "stream",
     "text": [
      "Cycle: 0\n",
      "waiting_tasks\n",
      "['Task 4 - Job 0', 'Task 4 - Job 1', 'Task 4 - Job 2', 'Task 4 - Job 3', 'Task 4 - Job 4', 'Task 4 - Job 5']\n",
      "-1\n",
      "number\n",
      "0\n",
      "self.current_task_idx\n",
      "0\n",
      "-1\n",
      "number\n",
      "1\n",
      "self.current_task_idx\n",
      "0\n",
      "-1\n",
      "number\n",
      "2\n",
      "self.current_task_idx\n",
      "0\n",
      "-1\n",
      "number\n",
      "3\n",
      "self.current_task_idx\n",
      "0\n",
      "-1\n",
      "number\n",
      "4\n",
      "self.current_task_idx\n",
      "0\n",
      "-1\n",
      "number\n",
      "5\n",
      "self.current_task_idx\n",
      "0\n",
      "Cycle: 1\n",
      "waiting_tasks\n",
      "['Task 0 - Job 0', 'Task 0 - Job 1', 'Task 0 - Job 2', 'Task 0 - Job 3', 'Task 0 - Job 4', 'Task 0 - Job 5']\n",
      "1\n",
      "number\n",
      "0\n",
      "self.current_task_idx\n",
      "2\n",
      "1\n",
      "number\n",
      "1\n",
      "self.current_task_idx\n",
      "2\n",
      "1\n",
      "number\n",
      "2\n",
      "self.current_task_idx\n",
      "2\n",
      "1\n",
      "number\n",
      "3\n",
      "self.current_task_idx\n",
      "2\n",
      "1\n",
      "number\n",
      "4\n",
      "self.current_task_idx\n",
      "2\n",
      "1\n",
      "number\n",
      "5\n",
      "self.current_task_idx\n",
      "2\n",
      "Cycle: 2\n",
      "waiting_tasks\n",
      "['Task 2 - Job 0', 'Task 2 - Job 1', 'Task 2 - Job 2', 'Task 2 - Job 3', 'Task 2 - Job 4', 'Task 2 - Job 5']\n",
      "3\n",
      "number\n",
      "0\n",
      "self.current_task_idx\n",
      "4\n",
      "3\n",
      "number\n",
      "1\n",
      "self.current_task_idx\n",
      "4\n",
      "3\n",
      "number\n",
      "2\n",
      "self.current_task_idx\n",
      "4\n",
      "3\n",
      "number\n",
      "3\n",
      "self.current_task_idx\n",
      "4\n",
      "3\n",
      "number\n",
      "4\n",
      "self.current_task_idx\n",
      "4\n",
      "3\n",
      "number\n",
      "5\n",
      "self.current_task_idx\n",
      "4\n",
      "Cycle: 3\n",
      "waiting_tasks\n",
      "['Task 4 - Job 0', 'Task 4 - Job 1', 'Task 4 - Job 2', 'Task 4 - Job 3', 'Task 4 - Job 4', 'Task 4 - Job 5']\n",
      "5\n",
      "number\n",
      "0\n",
      "self.current_task_idx\n",
      "6\n"
     ]
    },
    {
     "ename": "IndexError",
     "evalue": "list index out of range",
     "output_type": "error",
     "traceback": [
      "\u001b[0;31m---------------------------------------------------------------------------\u001b[0m",
      "\u001b[0;31mIndexError\u001b[0m                                Traceback (most recent call last)",
      "\u001b[0;32m<ipython-input-158-0413c71c5e29>\u001b[0m in \u001b[0;36m<module>\u001b[0;34m\u001b[0m\n\u001b[1;32m      3\u001b[0m     \u001b[0mprint\u001b[0m\u001b[0;34m(\u001b[0m\u001b[0;34m\"waiting_tasks\"\u001b[0m\u001b[0;34m)\u001b[0m\u001b[0;34m\u001b[0m\u001b[0;34m\u001b[0m\u001b[0m\n\u001b[1;32m      4\u001b[0m     \u001b[0mprint\u001b[0m\u001b[0;34m(\u001b[0m\u001b[0;34m[\u001b[0m\u001b[0;34m\"Task {} - Job {}\"\u001b[0m\u001b[0;34m.\u001b[0m\u001b[0mformat\u001b[0m\u001b[0;34m(\u001b[0m\u001b[0mint\u001b[0m\u001b[0;34m(\u001b[0m\u001b[0mtmp_task\u001b[0m\u001b[0;34m.\u001b[0m\u001b[0mnumber\u001b[0m\u001b[0;34m)\u001b[0m\u001b[0;34m,\u001b[0m \u001b[0mint\u001b[0m\u001b[0;34m(\u001b[0m\u001b[0mtmp_task\u001b[0m\u001b[0;34m.\u001b[0m\u001b[0mjob\u001b[0m\u001b[0;34m.\u001b[0m\u001b[0mnumber\u001b[0m\u001b[0;34m)\u001b[0m\u001b[0;34m)\u001b[0m \u001b[0;32mfor\u001b[0m \u001b[0mtmp_task\u001b[0m \u001b[0;32min\u001b[0m \u001b[0mwaiting_tasks\u001b[0m\u001b[0;34m]\u001b[0m\u001b[0;34m)\u001b[0m\u001b[0;34m\u001b[0m\u001b[0;34m\u001b[0m\u001b[0m\n\u001b[0;32m----> 5\u001b[0;31m     \u001b[0mwaiting_tasks\u001b[0m\u001b[0;34m,\u001b[0m \u001b[0mnew_jobs\u001b[0m \u001b[0;34m=\u001b[0m \u001b[0mget_av_tasks\u001b[0m\u001b[0;34m(\u001b[0m\u001b[0mjobs\u001b[0m\u001b[0;34m,\u001b[0m \u001b[0mcycle\u001b[0m\u001b[0;34m)\u001b[0m \u001b[0;31m# tasks that needs to be assigned to one ressource\u001b[0m\u001b[0;34m\u001b[0m\u001b[0;34m\u001b[0m\u001b[0m\n\u001b[0m\u001b[1;32m      6\u001b[0m     \u001b[0mjobs\u001b[0m \u001b[0;34m=\u001b[0m \u001b[0mnew_jobs\u001b[0m \u001b[0;31m# update job list: if a job is done, it will be removed from the list\u001b[0m\u001b[0;34m\u001b[0m\u001b[0;34m\u001b[0m\u001b[0m\n\u001b[1;32m      7\u001b[0m     \u001b[0mreorder_tasks\u001b[0m\u001b[0;34m(\u001b[0m\u001b[0mresources\u001b[0m\u001b[0;34m,\u001b[0m \u001b[0mwaiting_tasks\u001b[0m\u001b[0;34m,\u001b[0m \u001b[0mpriority\u001b[0m\u001b[0;34m)\u001b[0m\u001b[0;34m\u001b[0m\u001b[0;34m\u001b[0m\u001b[0m\n",
      "\u001b[0;32m<ipython-input-143-345c3a107507>\u001b[0m in \u001b[0;36mget_av_tasks\u001b[0;34m(jobs, cycle)\u001b[0m\n\u001b[1;32m      2\u001b[0m     \u001b[0mtasks\u001b[0m \u001b[0;34m=\u001b[0m \u001b[0;34m[\u001b[0m\u001b[0;34m]\u001b[0m\u001b[0;34m\u001b[0m\u001b[0;34m\u001b[0m\u001b[0m\n\u001b[1;32m      3\u001b[0m     \u001b[0;32mfor\u001b[0m \u001b[0mjob\u001b[0m \u001b[0;32min\u001b[0m \u001b[0mjobs\u001b[0m\u001b[0;34m:\u001b[0m\u001b[0;34m\u001b[0m\u001b[0;34m\u001b[0m\u001b[0m\n\u001b[0;32m----> 4\u001b[0;31m         \u001b[0mtask\u001b[0m \u001b[0;34m=\u001b[0m \u001b[0mjob\u001b[0m\u001b[0;34m.\u001b[0m\u001b[0mget_next_task\u001b[0m\u001b[0;34m(\u001b[0m\u001b[0mcycle\u001b[0m\u001b[0;34m)\u001b[0m\u001b[0;34m\u001b[0m\u001b[0;34m\u001b[0m\u001b[0m\n\u001b[0m\u001b[1;32m      5\u001b[0m         \u001b[0;32mif\u001b[0m \u001b[0;34m(\u001b[0m\u001b[0mtask\u001b[0m\u001b[0;34m)\u001b[0m\u001b[0;34m:\u001b[0m\u001b[0;34m\u001b[0m\u001b[0;34m\u001b[0m\u001b[0m\n\u001b[1;32m      6\u001b[0m             \u001b[0mtasks\u001b[0m\u001b[0;34m.\u001b[0m\u001b[0mappend\u001b[0m\u001b[0;34m(\u001b[0m\u001b[0mtask\u001b[0m\u001b[0;34m)\u001b[0m\u001b[0;34m\u001b[0m\u001b[0;34m\u001b[0m\u001b[0m\n",
      "\u001b[0;32m<ipython-input-146-b41fee7a4580>\u001b[0m in \u001b[0;36mget_next_task\u001b[0;34m(self, cycle)\u001b[0m\n\u001b[1;32m     25\u001b[0m             \u001b[0mprint\u001b[0m\u001b[0;34m(\u001b[0m\u001b[0;34m\"self.current_task_idx\"\u001b[0m\u001b[0;34m)\u001b[0m\u001b[0;34m\u001b[0m\u001b[0;34m\u001b[0m\u001b[0m\n\u001b[1;32m     26\u001b[0m             \u001b[0mprint\u001b[0m\u001b[0;34m(\u001b[0m\u001b[0mself\u001b[0m\u001b[0;34m.\u001b[0m\u001b[0mcurrent_task_idx\u001b[0m\u001b[0;34m)\u001b[0m\u001b[0;34m\u001b[0m\u001b[0;34m\u001b[0m\u001b[0m\n\u001b[0;32m---> 27\u001b[0;31m             \u001b[0;32mreturn\u001b[0m \u001b[0mself\u001b[0m\u001b[0;34m.\u001b[0m\u001b[0mtasks\u001b[0m\u001b[0;34m[\u001b[0m\u001b[0mself\u001b[0m\u001b[0;34m.\u001b[0m\u001b[0mcurrent_task_idx\u001b[0m\u001b[0;34m]\u001b[0m\u001b[0;34m\u001b[0m\u001b[0;34m\u001b[0m\u001b[0m\n\u001b[0m\u001b[1;32m     28\u001b[0m         \u001b[0;32mreturn\u001b[0m \u001b[0;32mNone\u001b[0m\u001b[0;34m\u001b[0m\u001b[0;34m\u001b[0m\u001b[0m\n",
      "\u001b[0;31mIndexError\u001b[0m: list index out of range"
     ]
    }
   ],
   "source": [
    "while(jobs != []):\n",
    "    print(\"Cycle: {}\".format(cycle))    \n",
    "    waiting_tasks, new_jobs = get_av_tasks(jobs, cycle) # tasks that needs to be assigned to one ressource    \n",
    "    jobs = new_jobs # update job list: if a job is done, it will be removed from the list\n",
    "    reorder_tasks(resources, waiting_tasks, priority)\n",
    "    cycle += 1"
   ]
  },
  {
   "cell_type": "code",
   "execution_count": null,
   "metadata": {},
   "outputs": [],
   "source": []
  }
 ],
 "metadata": {
  "kernelspec": {
   "display_name": "Python 3",
   "language": "python",
   "name": "python3"
  },
  "language_info": {
   "codemirror_mode": {
    "name": "ipython",
    "version": 3
   },
   "file_extension": ".py",
   "mimetype": "text/x-python",
   "name": "python",
   "nbconvert_exporter": "python",
   "pygments_lexer": "ipython3",
   "version": "3.7.4"
  }
 },
 "nbformat": 4,
 "nbformat_minor": 2
}
